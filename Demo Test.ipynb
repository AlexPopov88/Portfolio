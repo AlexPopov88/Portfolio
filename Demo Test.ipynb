{
 "cells": [
  {
   "cell_type": "code",
   "execution_count": 287,
   "id": "451df3b2",
   "metadata": {},
   "outputs": [],
   "source": [
    "import pandas as pd\n",
    "import numpy as np\n",
    "import matplotlib.pyplot as plt\n",
    "import statsmodels.api as sm"
   ]
  },
  {
   "cell_type": "code",
   "execution_count": 289,
   "id": "891e6a47",
   "metadata": {},
   "outputs": [
    {
     "data": {
      "text/html": [
       "<div>\n",
       "<style scoped>\n",
       "    .dataframe tbody tr th:only-of-type {\n",
       "        vertical-align: middle;\n",
       "    }\n",
       "\n",
       "    .dataframe tbody tr th {\n",
       "        vertical-align: top;\n",
       "    }\n",
       "\n",
       "    .dataframe thead th {\n",
       "        text-align: right;\n",
       "    }\n",
       "</style>\n",
       "<table border=\"1\" class=\"dataframe\">\n",
       "  <thead>\n",
       "    <tr style=\"text-align: right;\">\n",
       "      <th></th>\n",
       "      <th>Name</th>\n",
       "      <th>Platform</th>\n",
       "      <th>Year_of_Release</th>\n",
       "      <th>Genre</th>\n",
       "      <th>Publisher</th>\n",
       "      <th>NA_Sales</th>\n",
       "      <th>EU_Sales</th>\n",
       "      <th>JP_Sales</th>\n",
       "      <th>Other_Sales</th>\n",
       "      <th>Global_Sales</th>\n",
       "      <th>Critic_Score</th>\n",
       "      <th>Critic_Count</th>\n",
       "      <th>User_Score</th>\n",
       "      <th>User_Count</th>\n",
       "      <th>Developer</th>\n",
       "      <th>Rating</th>\n",
       "    </tr>\n",
       "  </thead>\n",
       "  <tbody>\n",
       "    <tr>\n",
       "      <th>0</th>\n",
       "      <td>Wii Sports</td>\n",
       "      <td>Wii</td>\n",
       "      <td>2006.0</td>\n",
       "      <td>Sports</td>\n",
       "      <td>Nintendo</td>\n",
       "      <td>41.36</td>\n",
       "      <td>28.96</td>\n",
       "      <td>3.77</td>\n",
       "      <td>8.45</td>\n",
       "      <td>82.53</td>\n",
       "      <td>76.0</td>\n",
       "      <td>51.0</td>\n",
       "      <td>8</td>\n",
       "      <td>322.0</td>\n",
       "      <td>Nintendo</td>\n",
       "      <td>E</td>\n",
       "    </tr>\n",
       "    <tr>\n",
       "      <th>1</th>\n",
       "      <td>Super Mario Bros.</td>\n",
       "      <td>NES</td>\n",
       "      <td>1985.0</td>\n",
       "      <td>Platform</td>\n",
       "      <td>Nintendo</td>\n",
       "      <td>29.08</td>\n",
       "      <td>3.58</td>\n",
       "      <td>6.81</td>\n",
       "      <td>0.77</td>\n",
       "      <td>40.24</td>\n",
       "      <td>NaN</td>\n",
       "      <td>NaN</td>\n",
       "      <td>NaN</td>\n",
       "      <td>NaN</td>\n",
       "      <td>NaN</td>\n",
       "      <td>NaN</td>\n",
       "    </tr>\n",
       "    <tr>\n",
       "      <th>2</th>\n",
       "      <td>Mario Kart Wii</td>\n",
       "      <td>Wii</td>\n",
       "      <td>2008.0</td>\n",
       "      <td>Racing</td>\n",
       "      <td>Nintendo</td>\n",
       "      <td>15.68</td>\n",
       "      <td>12.76</td>\n",
       "      <td>3.79</td>\n",
       "      <td>3.29</td>\n",
       "      <td>35.52</td>\n",
       "      <td>82.0</td>\n",
       "      <td>73.0</td>\n",
       "      <td>8.3</td>\n",
       "      <td>709.0</td>\n",
       "      <td>Nintendo</td>\n",
       "      <td>E</td>\n",
       "    </tr>\n",
       "    <tr>\n",
       "      <th>3</th>\n",
       "      <td>Wii Sports Resort</td>\n",
       "      <td>Wii</td>\n",
       "      <td>2009.0</td>\n",
       "      <td>Sports</td>\n",
       "      <td>Nintendo</td>\n",
       "      <td>15.61</td>\n",
       "      <td>10.93</td>\n",
       "      <td>3.28</td>\n",
       "      <td>2.95</td>\n",
       "      <td>32.77</td>\n",
       "      <td>80.0</td>\n",
       "      <td>73.0</td>\n",
       "      <td>8</td>\n",
       "      <td>192.0</td>\n",
       "      <td>Nintendo</td>\n",
       "      <td>E</td>\n",
       "    </tr>\n",
       "    <tr>\n",
       "      <th>4</th>\n",
       "      <td>Pokemon Red/Pokemon Blue</td>\n",
       "      <td>GB</td>\n",
       "      <td>1996.0</td>\n",
       "      <td>Role-Playing</td>\n",
       "      <td>Nintendo</td>\n",
       "      <td>11.27</td>\n",
       "      <td>8.89</td>\n",
       "      <td>10.22</td>\n",
       "      <td>1.00</td>\n",
       "      <td>31.37</td>\n",
       "      <td>NaN</td>\n",
       "      <td>NaN</td>\n",
       "      <td>NaN</td>\n",
       "      <td>NaN</td>\n",
       "      <td>NaN</td>\n",
       "      <td>NaN</td>\n",
       "    </tr>\n",
       "  </tbody>\n",
       "</table>\n",
       "</div>"
      ],
      "text/plain": [
       "                       Name Platform  Year_of_Release         Genre Publisher  \\\n",
       "0                Wii Sports      Wii           2006.0        Sports  Nintendo   \n",
       "1         Super Mario Bros.      NES           1985.0      Platform  Nintendo   \n",
       "2            Mario Kart Wii      Wii           2008.0        Racing  Nintendo   \n",
       "3         Wii Sports Resort      Wii           2009.0        Sports  Nintendo   \n",
       "4  Pokemon Red/Pokemon Blue       GB           1996.0  Role-Playing  Nintendo   \n",
       "\n",
       "   NA_Sales  EU_Sales  JP_Sales  Other_Sales  Global_Sales  Critic_Score  \\\n",
       "0     41.36     28.96      3.77         8.45         82.53          76.0   \n",
       "1     29.08      3.58      6.81         0.77         40.24           NaN   \n",
       "2     15.68     12.76      3.79         3.29         35.52          82.0   \n",
       "3     15.61     10.93      3.28         2.95         32.77          80.0   \n",
       "4     11.27      8.89     10.22         1.00         31.37           NaN   \n",
       "\n",
       "   Critic_Count User_Score  User_Count Developer Rating  \n",
       "0          51.0          8       322.0  Nintendo      E  \n",
       "1           NaN        NaN         NaN       NaN    NaN  \n",
       "2          73.0        8.3       709.0  Nintendo      E  \n",
       "3          73.0          8       192.0  Nintendo      E  \n",
       "4           NaN        NaN         NaN       NaN    NaN  "
      ]
     },
     "execution_count": 289,
     "metadata": {},
     "output_type": "execute_result"
    }
   ],
   "source": [
    "df = pd.read_csv('Data/c.csv')\n",
    "df.head()"
   ]
  },
  {
   "cell_type": "markdown",
   "id": "f130dd49",
   "metadata": {},
   "source": [
    "get AVG for Sales in NA"
   ]
  },
  {
   "cell_type": "code",
   "execution_count": 290,
   "id": "0048839f",
   "metadata": {},
   "outputs": [
    {
     "data": {
      "text/plain": [
       "0.2633303427238687"
      ]
     },
     "execution_count": 290,
     "metadata": {},
     "output_type": "execute_result"
    }
   ],
   "source": [
    "df.NA_Sales.mean()"
   ]
  },
  {
   "cell_type": "markdown",
   "id": "01a3a034",
   "metadata": {},
   "source": [
    "get MIN and MAX for Sales in NA"
   ]
  },
  {
   "cell_type": "code",
   "execution_count": 291,
   "id": "6fb21747",
   "metadata": {},
   "outputs": [
    {
     "name": "stdout",
     "output_type": "stream",
     "text": [
      "0.0 41.36\n"
     ]
    }
   ],
   "source": [
    "print(df.NA_Sales.min(), df.NA_Sales.max())"
   ]
  },
  {
   "cell_type": "markdown",
   "id": "2a35b353",
   "metadata": {},
   "source": [
    "calculate STD for Sales in NA"
   ]
  },
  {
   "cell_type": "code",
   "execution_count": 292,
   "id": "a2c934c8",
   "metadata": {},
   "outputs": [
    {
     "data": {
      "text/plain": [
       "0.8135138347516405"
      ]
     },
     "execution_count": 292,
     "metadata": {},
     "output_type": "execute_result"
    }
   ],
   "source": [
    "df.NA_Sales.std()"
   ]
  },
  {
   "cell_type": "markdown",
   "id": "e5b93c6c",
   "metadata": {},
   "source": [
    "calculate the most freaquency genre"
   ]
  },
  {
   "cell_type": "code",
   "execution_count": 294,
   "id": "4d39a1cc",
   "metadata": {},
   "outputs": [
    {
     "data": {
      "text/plain": [
       "Action          3370\n",
       "Sports          2348\n",
       "Misc            1750\n",
       "Role-Playing    1500\n",
       "Shooter         1323\n",
       "Adventure       1303\n",
       "Racing          1249\n",
       "Platform         888\n",
       "Simulation       874\n",
       "Fighting         849\n",
       "Strategy         683\n",
       "Puzzle           580\n",
       "Name: Genre, dtype: int64"
      ]
     },
     "execution_count": 294,
     "metadata": {},
     "output_type": "execute_result"
    }
   ],
   "source": [
    "df.Genre.value_counts()"
   ]
  },
  {
   "cell_type": "markdown",
   "id": "5ad20b53",
   "metadata": {},
   "source": [
    "Add new column: 1 for PS3, 0 for other"
   ]
  },
  {
   "cell_type": "code",
   "execution_count": 296,
   "id": "9005d13d",
   "metadata": {},
   "outputs": [
    {
     "data": {
      "text/html": [
       "<div>\n",
       "<style scoped>\n",
       "    .dataframe tbody tr th:only-of-type {\n",
       "        vertical-align: middle;\n",
       "    }\n",
       "\n",
       "    .dataframe tbody tr th {\n",
       "        vertical-align: top;\n",
       "    }\n",
       "\n",
       "    .dataframe thead th {\n",
       "        text-align: right;\n",
       "    }\n",
       "</style>\n",
       "<table border=\"1\" class=\"dataframe\">\n",
       "  <thead>\n",
       "    <tr style=\"text-align: right;\">\n",
       "      <th></th>\n",
       "      <th>Name</th>\n",
       "      <th>Platform</th>\n",
       "      <th>Year_of_Release</th>\n",
       "      <th>Genre</th>\n",
       "      <th>Publisher</th>\n",
       "      <th>NA_Sales</th>\n",
       "      <th>EU_Sales</th>\n",
       "      <th>JP_Sales</th>\n",
       "      <th>Other_Sales</th>\n",
       "      <th>Global_Sales</th>\n",
       "      <th>Critic_Score</th>\n",
       "      <th>Critic_Count</th>\n",
       "      <th>User_Score</th>\n",
       "      <th>User_Count</th>\n",
       "      <th>Developer</th>\n",
       "      <th>Rating</th>\n",
       "      <th>Platform_Coded</th>\n",
       "    </tr>\n",
       "  </thead>\n",
       "  <tbody>\n",
       "    <tr>\n",
       "      <th>0</th>\n",
       "      <td>Wii Sports</td>\n",
       "      <td>Wii</td>\n",
       "      <td>2006.0</td>\n",
       "      <td>Sports</td>\n",
       "      <td>Nintendo</td>\n",
       "      <td>41.36</td>\n",
       "      <td>28.96</td>\n",
       "      <td>3.77</td>\n",
       "      <td>8.45</td>\n",
       "      <td>82.53</td>\n",
       "      <td>76.0</td>\n",
       "      <td>51.0</td>\n",
       "      <td>8</td>\n",
       "      <td>322.0</td>\n",
       "      <td>Nintendo</td>\n",
       "      <td>E</td>\n",
       "      <td>0</td>\n",
       "    </tr>\n",
       "    <tr>\n",
       "      <th>1</th>\n",
       "      <td>Super Mario Bros.</td>\n",
       "      <td>NES</td>\n",
       "      <td>1985.0</td>\n",
       "      <td>Platform</td>\n",
       "      <td>Nintendo</td>\n",
       "      <td>29.08</td>\n",
       "      <td>3.58</td>\n",
       "      <td>6.81</td>\n",
       "      <td>0.77</td>\n",
       "      <td>40.24</td>\n",
       "      <td>NaN</td>\n",
       "      <td>NaN</td>\n",
       "      <td>NaN</td>\n",
       "      <td>NaN</td>\n",
       "      <td>NaN</td>\n",
       "      <td>NaN</td>\n",
       "      <td>0</td>\n",
       "    </tr>\n",
       "    <tr>\n",
       "      <th>2</th>\n",
       "      <td>Mario Kart Wii</td>\n",
       "      <td>Wii</td>\n",
       "      <td>2008.0</td>\n",
       "      <td>Racing</td>\n",
       "      <td>Nintendo</td>\n",
       "      <td>15.68</td>\n",
       "      <td>12.76</td>\n",
       "      <td>3.79</td>\n",
       "      <td>3.29</td>\n",
       "      <td>35.52</td>\n",
       "      <td>82.0</td>\n",
       "      <td>73.0</td>\n",
       "      <td>8.3</td>\n",
       "      <td>709.0</td>\n",
       "      <td>Nintendo</td>\n",
       "      <td>E</td>\n",
       "      <td>0</td>\n",
       "    </tr>\n",
       "    <tr>\n",
       "      <th>3</th>\n",
       "      <td>Wii Sports Resort</td>\n",
       "      <td>Wii</td>\n",
       "      <td>2009.0</td>\n",
       "      <td>Sports</td>\n",
       "      <td>Nintendo</td>\n",
       "      <td>15.61</td>\n",
       "      <td>10.93</td>\n",
       "      <td>3.28</td>\n",
       "      <td>2.95</td>\n",
       "      <td>32.77</td>\n",
       "      <td>80.0</td>\n",
       "      <td>73.0</td>\n",
       "      <td>8</td>\n",
       "      <td>192.0</td>\n",
       "      <td>Nintendo</td>\n",
       "      <td>E</td>\n",
       "      <td>0</td>\n",
       "    </tr>\n",
       "    <tr>\n",
       "      <th>4</th>\n",
       "      <td>Pokemon Red/Pokemon Blue</td>\n",
       "      <td>GB</td>\n",
       "      <td>1996.0</td>\n",
       "      <td>Role-Playing</td>\n",
       "      <td>Nintendo</td>\n",
       "      <td>11.27</td>\n",
       "      <td>8.89</td>\n",
       "      <td>10.22</td>\n",
       "      <td>1.00</td>\n",
       "      <td>31.37</td>\n",
       "      <td>NaN</td>\n",
       "      <td>NaN</td>\n",
       "      <td>NaN</td>\n",
       "      <td>NaN</td>\n",
       "      <td>NaN</td>\n",
       "      <td>NaN</td>\n",
       "      <td>0</td>\n",
       "    </tr>\n",
       "  </tbody>\n",
       "</table>\n",
       "</div>"
      ],
      "text/plain": [
       "                       Name Platform  Year_of_Release         Genre Publisher  \\\n",
       "0                Wii Sports      Wii           2006.0        Sports  Nintendo   \n",
       "1         Super Mario Bros.      NES           1985.0      Platform  Nintendo   \n",
       "2            Mario Kart Wii      Wii           2008.0        Racing  Nintendo   \n",
       "3         Wii Sports Resort      Wii           2009.0        Sports  Nintendo   \n",
       "4  Pokemon Red/Pokemon Blue       GB           1996.0  Role-Playing  Nintendo   \n",
       "\n",
       "   NA_Sales  EU_Sales  JP_Sales  Other_Sales  Global_Sales  Critic_Score  \\\n",
       "0     41.36     28.96      3.77         8.45         82.53          76.0   \n",
       "1     29.08      3.58      6.81         0.77         40.24           NaN   \n",
       "2     15.68     12.76      3.79         3.29         35.52          82.0   \n",
       "3     15.61     10.93      3.28         2.95         32.77          80.0   \n",
       "4     11.27      8.89     10.22         1.00         31.37           NaN   \n",
       "\n",
       "   Critic_Count User_Score  User_Count Developer Rating  Platform_Coded  \n",
       "0          51.0          8       322.0  Nintendo      E               0  \n",
       "1           NaN        NaN         NaN       NaN    NaN               0  \n",
       "2          73.0        8.3       709.0  Nintendo      E               0  \n",
       "3          73.0          8       192.0  Nintendo      E               0  \n",
       "4           NaN        NaN         NaN       NaN    NaN               0  "
      ]
     },
     "execution_count": 296,
     "metadata": {},
     "output_type": "execute_result"
    }
   ],
   "source": [
    "df['Platform_Coded'] = np.where(df.Platform == 'PS3', 1, 0)\n",
    "df.head()"
   ]
  },
  {
   "cell_type": "markdown",
   "id": "6f7f35ad",
   "metadata": {},
   "source": [
    "Calculate AVG for new column"
   ]
  },
  {
   "cell_type": "code",
   "execution_count": 297,
   "id": "02e40778",
   "metadata": {},
   "outputs": [
    {
     "data": {
      "text/plain": [
       "0.07961002452299779"
      ]
     },
     "execution_count": 297,
     "metadata": {},
     "output_type": "execute_result"
    }
   ],
   "source": [
    "df.Platform_Coded.mean()"
   ]
  },
  {
   "cell_type": "markdown",
   "id": "505b4934",
   "metadata": {},
   "source": [
    "Calculate AVG score for specific companies"
   ]
  },
  {
   "cell_type": "code",
   "execution_count": 303,
   "id": "6443ce74",
   "metadata": {},
   "outputs": [
    {
     "data": {
      "text/html": [
       "<div>\n",
       "<style scoped>\n",
       "    .dataframe tbody tr th:only-of-type {\n",
       "        vertical-align: middle;\n",
       "    }\n",
       "\n",
       "    .dataframe tbody tr th {\n",
       "        vertical-align: top;\n",
       "    }\n",
       "\n",
       "    .dataframe thead th {\n",
       "        text-align: right;\n",
       "    }\n",
       "</style>\n",
       "<table border=\"1\" class=\"dataframe\">\n",
       "  <thead>\n",
       "    <tr style=\"text-align: right;\">\n",
       "      <th></th>\n",
       "      <th>Name</th>\n",
       "      <th>Platform</th>\n",
       "      <th>Year_of_Release</th>\n",
       "      <th>Genre</th>\n",
       "      <th>Publisher</th>\n",
       "      <th>NA_Sales</th>\n",
       "      <th>EU_Sales</th>\n",
       "      <th>JP_Sales</th>\n",
       "      <th>Other_Sales</th>\n",
       "      <th>Global_Sales</th>\n",
       "      <th>Critic_Score</th>\n",
       "      <th>Critic_Count</th>\n",
       "      <th>User_Score</th>\n",
       "      <th>User_Count</th>\n",
       "      <th>Developer</th>\n",
       "      <th>Rating</th>\n",
       "      <th>Platform_Coded</th>\n",
       "    </tr>\n",
       "  </thead>\n",
       "  <tbody>\n",
       "    <tr>\n",
       "      <th>784</th>\n",
       "      <td>Dynasty Warriors 4</td>\n",
       "      <td>PS2</td>\n",
       "      <td>2003.0</td>\n",
       "      <td>Action</td>\n",
       "      <td>Tecmo Koei</td>\n",
       "      <td>0.63</td>\n",
       "      <td>0.21</td>\n",
       "      <td>1.13</td>\n",
       "      <td>0.13</td>\n",
       "      <td>2.11</td>\n",
       "      <td>78.0</td>\n",
       "      <td>24.0</td>\n",
       "      <td>9.3</td>\n",
       "      <td>201.0</td>\n",
       "      <td>Omega Force</td>\n",
       "      <td>T</td>\n",
       "      <td>0</td>\n",
       "    </tr>\n",
       "    <tr>\n",
       "      <th>1391</th>\n",
       "      <td>Dynasty Warriors 5</td>\n",
       "      <td>PS2</td>\n",
       "      <td>2005.0</td>\n",
       "      <td>Action</td>\n",
       "      <td>Tecmo Koei</td>\n",
       "      <td>0.24</td>\n",
       "      <td>0.18</td>\n",
       "      <td>0.91</td>\n",
       "      <td>0.06</td>\n",
       "      <td>1.39</td>\n",
       "      <td>69.0</td>\n",
       "      <td>29.0</td>\n",
       "      <td>8.8</td>\n",
       "      <td>68.0</td>\n",
       "      <td>Omega Force</td>\n",
       "      <td>T</td>\n",
       "      <td>0</td>\n",
       "    </tr>\n",
       "    <tr>\n",
       "      <th>2049</th>\n",
       "      <td>Ninja Gaiden II</td>\n",
       "      <td>X360</td>\n",
       "      <td>2008.0</td>\n",
       "      <td>Action</td>\n",
       "      <td>Tecmo Koei</td>\n",
       "      <td>0.65</td>\n",
       "      <td>0.22</td>\n",
       "      <td>0.05</td>\n",
       "      <td>0.10</td>\n",
       "      <td>1.01</td>\n",
       "      <td>81.0</td>\n",
       "      <td>74.0</td>\n",
       "      <td>8</td>\n",
       "      <td>302.0</td>\n",
       "      <td>Team Ninja, Tecmo</td>\n",
       "      <td>M</td>\n",
       "      <td>0</td>\n",
       "    </tr>\n",
       "    <tr>\n",
       "      <th>2054</th>\n",
       "      <td>Monster Rancher</td>\n",
       "      <td>PS</td>\n",
       "      <td>1997.0</td>\n",
       "      <td>Simulation</td>\n",
       "      <td>Tecmo Koei</td>\n",
       "      <td>0.12</td>\n",
       "      <td>0.08</td>\n",
       "      <td>0.74</td>\n",
       "      <td>0.07</td>\n",
       "      <td>1.01</td>\n",
       "      <td>86.0</td>\n",
       "      <td>5.0</td>\n",
       "      <td>8.3</td>\n",
       "      <td>10.0</td>\n",
       "      <td>Tecmo</td>\n",
       "      <td>NaN</td>\n",
       "      <td>0</td>\n",
       "    </tr>\n",
       "    <tr>\n",
       "      <th>2061</th>\n",
       "      <td>Dead or Alive 2</td>\n",
       "      <td>PS2</td>\n",
       "      <td>2000.0</td>\n",
       "      <td>Fighting</td>\n",
       "      <td>Tecmo Koei</td>\n",
       "      <td>0.30</td>\n",
       "      <td>0.24</td>\n",
       "      <td>0.38</td>\n",
       "      <td>0.08</td>\n",
       "      <td>1.00</td>\n",
       "      <td>NaN</td>\n",
       "      <td>NaN</td>\n",
       "      <td>NaN</td>\n",
       "      <td>NaN</td>\n",
       "      <td>NaN</td>\n",
       "      <td>NaN</td>\n",
       "      <td>0</td>\n",
       "    </tr>\n",
       "  </tbody>\n",
       "</table>\n",
       "</div>"
      ],
      "text/plain": [
       "                    Name Platform  Year_of_Release       Genre   Publisher  \\\n",
       "784   Dynasty Warriors 4      PS2           2003.0      Action  Tecmo Koei   \n",
       "1391  Dynasty Warriors 5      PS2           2005.0      Action  Tecmo Koei   \n",
       "2049     Ninja Gaiden II     X360           2008.0      Action  Tecmo Koei   \n",
       "2054     Monster Rancher       PS           1997.0  Simulation  Tecmo Koei   \n",
       "2061     Dead or Alive 2      PS2           2000.0    Fighting  Tecmo Koei   \n",
       "\n",
       "      NA_Sales  EU_Sales  JP_Sales  Other_Sales  Global_Sales  Critic_Score  \\\n",
       "784       0.63      0.21      1.13         0.13          2.11          78.0   \n",
       "1391      0.24      0.18      0.91         0.06          1.39          69.0   \n",
       "2049      0.65      0.22      0.05         0.10          1.01          81.0   \n",
       "2054      0.12      0.08      0.74         0.07          1.01          86.0   \n",
       "2061      0.30      0.24      0.38         0.08          1.00           NaN   \n",
       "\n",
       "      Critic_Count User_Score  User_Count          Developer Rating  \\\n",
       "784           24.0        9.3       201.0        Omega Force      T   \n",
       "1391          29.0        8.8        68.0        Omega Force      T   \n",
       "2049          74.0          8       302.0  Team Ninja, Tecmo      M   \n",
       "2054           5.0        8.3        10.0              Tecmo    NaN   \n",
       "2061           NaN        NaN         NaN                NaN    NaN   \n",
       "\n",
       "      Platform_Coded  \n",
       "784                0  \n",
       "1391               0  \n",
       "2049               0  \n",
       "2054               0  \n",
       "2061               0  "
      ]
     },
     "execution_count": 303,
     "metadata": {},
     "output_type": "execute_result"
    }
   ],
   "source": [
    "df_TK_W = df[(df.Publisher == \"Tecmo Koei\") | (df.Publisher == \"Wanadoo\")]\n",
    "df_TK_W.head()"
   ]
  },
  {
   "cell_type": "code",
   "execution_count": 304,
   "id": "b5afb317",
   "metadata": {},
   "outputs": [
    {
     "data": {
      "text/plain": [
       "65.60135135135135"
      ]
     },
     "execution_count": 304,
     "metadata": {},
     "output_type": "execute_result"
    }
   ],
   "source": [
    "df_TK_W.Critic_Score.mean()"
   ]
  },
  {
   "cell_type": "markdown",
   "id": "c562bf37",
   "metadata": {},
   "source": [
    "Определяем пропущенные значения"
   ]
  },
  {
   "cell_type": "code",
   "execution_count": 305,
   "id": "b9559592",
   "metadata": {},
   "outputs": [
    {
     "data": {
      "text/plain": [
       "Name                  2\n",
       "Platform              0\n",
       "Year_of_Release     269\n",
       "Genre                 2\n",
       "Publisher            54\n",
       "NA_Sales              0\n",
       "EU_Sales              0\n",
       "JP_Sales              0\n",
       "Other_Sales           0\n",
       "Global_Sales          0\n",
       "Critic_Score       8582\n",
       "Critic_Count       8582\n",
       "User_Score         6704\n",
       "User_Count         9129\n",
       "Developer          6623\n",
       "Rating             6769\n",
       "Platform_Coded        0\n",
       "dtype: int64"
      ]
     },
     "execution_count": 305,
     "metadata": {},
     "output_type": "execute_result"
    }
   ],
   "source": [
    "df.isna().sum()"
   ]
  },
  {
   "cell_type": "code",
   "execution_count": 306,
   "id": "c4d6400b",
   "metadata": {},
   "outputs": [
    {
     "data": {
      "text/plain": [
       "Ubisoft                                   204\n",
       "EA Sports                                 172\n",
       "EA Canada                                 167\n",
       "Konami                                    162\n",
       "Capcom                                    139\n",
       "                                         ... \n",
       "Genki, Kojima Productions                   1\n",
       "Warner Bros. Interactive Entertainment      1\n",
       "THQ, Altron                                 1\n",
       "Netherock Ltd.                              1\n",
       "Interchannel-Holon                          1\n",
       "Name: Developer, Length: 1696, dtype: int64"
      ]
     },
     "execution_count": 306,
     "metadata": {},
     "output_type": "execute_result"
    }
   ],
   "source": [
    "df.Developer.value_counts()"
   ]
  },
  {
   "cell_type": "code",
   "execution_count": 307,
   "id": "43eec590",
   "metadata": {},
   "outputs": [
    {
     "data": {
      "text/plain": [
       "0        Nintendo\n",
       "1         Ubisoft\n",
       "2        Nintendo\n",
       "3        Nintendo\n",
       "4         Ubisoft\n",
       "           ...   \n",
       "16714     Ubisoft\n",
       "16715     Ubisoft\n",
       "16716     Ubisoft\n",
       "16717     Ubisoft\n",
       "16718     Ubisoft\n",
       "Name: Developer, Length: 16719, dtype: object"
      ]
     },
     "execution_count": 307,
     "metadata": {},
     "output_type": "execute_result"
    }
   ],
   "source": [
    "top_value = df.Developer.value_counts().index[0]\n",
    "df_mode = df.Developer.fillna(top_value)\n",
    "df_mode"
   ]
  },
  {
   "cell_type": "code",
   "execution_count": 308,
   "id": "e2ca4daf",
   "metadata": {},
   "outputs": [
    {
     "data": {
      "text/plain": [
       "Ubisoft                                   6827\n",
       "EA Sports                                  172\n",
       "EA Canada                                  167\n",
       "Konami                                     162\n",
       "Capcom                                     139\n",
       "                                          ... \n",
       "Genki, Kojima Productions                    1\n",
       "Warner Bros. Interactive Entertainment       1\n",
       "THQ, Altron                                  1\n",
       "Netherock Ltd.                               1\n",
       "Interchannel-Holon                           1\n",
       "Name: Developer, Length: 1696, dtype: int64"
      ]
     },
     "execution_count": 308,
     "metadata": {},
     "output_type": "execute_result"
    }
   ],
   "source": [
    "df_mode.value_counts()"
   ]
  },
  {
   "cell_type": "markdown",
   "id": "b1128c25",
   "metadata": {},
   "source": [
    "Визуализация"
   ]
  },
  {
   "cell_type": "code",
   "execution_count": 309,
   "id": "39a12ad0",
   "metadata": {},
   "outputs": [
    {
     "data": {
      "text/plain": [
       "<matplotlib.collections.PathCollection at 0x29ca45d0820>"
      ]
     },
     "execution_count": 309,
     "metadata": {},
     "output_type": "execute_result"
    },
    {
     "data": {
      "image/png": "[encoded data removed]",
      "text/plain": [
       "<Figure size 432x288 with 1 Axes>"
      ]
     },
     "metadata": {
      "needs_background": "light"
     },
     "output_type": "display_data"
    }
   ],
   "source": [
    "plt.scatter(df.Critic_Score, df.EU_Sales)"
   ]
  },
  {
   "cell_type": "code",
   "execution_count": 310,
   "id": "99531e68",
   "metadata": {},
   "outputs": [
    {
     "data": {
      "text/plain": [
       "<matplotlib.collections.PathCollection at 0x29ca46c0f40>"
      ]
     },
     "execution_count": 310,
     "metadata": {},
     "output_type": "execute_result"
    },
    {
     "data": {
      "image/png": "[encoded data removed]",
      "text/plain": [
       "<Figure size 432x288 with 1 Axes>"
      ]
     },
     "metadata": {
      "needs_background": "light"
     },
     "output_type": "display_data"
    }
   ],
   "source": [
    "plt.scatter(df.JP_Sales, df.User_Count)"
   ]
  },
  {
   "cell_type": "code",
   "execution_count": 311,
   "id": "19e1699c",
   "metadata": {},
   "outputs": [
    {
     "data": {
      "text/plain": [
       "<matplotlib.collections.PathCollection at 0x29ca47c6520>"
      ]
     },
     "execution_count": 311,
     "metadata": {},
     "output_type": "execute_result"
    },
    {
     "data": {
      "image/png": "[encoded data removed]",
      "text/plain": [
       "<Figure size 432x288 with 1 Axes>"
      ]
     },
     "metadata": {
      "needs_background": "light"
     },
     "output_type": "display_data"
    }
   ],
   "source": [
    "plt.scatter(df.NA_Sales, df.EU_Sales)"
   ]
  },
  {
   "cell_type": "code",
   "execution_count": 312,
   "id": "84a3faec",
   "metadata": {},
   "outputs": [
    {
     "data": {
      "text/plain": [
       "<matplotlib.collections.PathCollection at 0x29ca492fbb0>"
      ]
     },
     "execution_count": 312,
     "metadata": {},
     "output_type": "execute_result"
    },
    {
     "data": {
      "image/png": "[encoded data removed]",
      "text/plain": [
       "<Figure size 432x288 with 1 Axes>"
      ]
     },
     "metadata": {
      "needs_background": "light"
     },
     "output_type": "display_data"
    }
   ],
   "source": [
    "plt.scatter(df.Critic_Score, df.Critic_Count)"
   ]
  },
  {
   "cell_type": "markdown",
   "id": "2831601b",
   "metadata": {},
   "source": [
    "Строим модель линейной регресии"
   ]
  },
  {
   "cell_type": "code",
   "execution_count": 313,
   "id": "b01e359b",
   "metadata": {},
   "outputs": [
    {
     "data": {
      "text/html": [
       "<div>\n",
       "<style scoped>\n",
       "    .dataframe tbody tr th:only-of-type {\n",
       "        vertical-align: middle;\n",
       "    }\n",
       "\n",
       "    .dataframe tbody tr th {\n",
       "        vertical-align: top;\n",
       "    }\n",
       "\n",
       "    .dataframe thead th {\n",
       "        text-align: right;\n",
       "    }\n",
       "</style>\n",
       "<table border=\"1\" class=\"dataframe\">\n",
       "  <thead>\n",
       "    <tr style=\"text-align: right;\">\n",
       "      <th></th>\n",
       "      <th>Year_of_Release</th>\n",
       "      <th>NA_Sales</th>\n",
       "      <th>EU_Sales</th>\n",
       "      <th>JP_Sales</th>\n",
       "      <th>Other_Sales</th>\n",
       "      <th>Global_Sales</th>\n",
       "      <th>Critic_Score</th>\n",
       "      <th>Critic_Count</th>\n",
       "      <th>User_Count</th>\n",
       "      <th>Platform_Coded</th>\n",
       "    </tr>\n",
       "  </thead>\n",
       "  <tbody>\n",
       "    <tr>\n",
       "      <th>Year_of_Release</th>\n",
       "      <td>1.000000</td>\n",
       "      <td>-0.092562</td>\n",
       "      <td>0.003842</td>\n",
       "      <td>-0.168386</td>\n",
       "      <td>0.037700</td>\n",
       "      <td>-0.076433</td>\n",
       "      <td>0.011411</td>\n",
       "      <td>0.223407</td>\n",
       "      <td>0.175339</td>\n",
       "      <td>0.217464</td>\n",
       "    </tr>\n",
       "    <tr>\n",
       "      <th>NA_Sales</th>\n",
       "      <td>-0.092562</td>\n",
       "      <td>1.000000</td>\n",
       "      <td>0.765336</td>\n",
       "      <td>0.449598</td>\n",
       "      <td>0.638654</td>\n",
       "      <td>0.941010</td>\n",
       "      <td>0.240755</td>\n",
       "      <td>0.295413</td>\n",
       "      <td>0.246429</td>\n",
       "      <td>0.011679</td>\n",
       "    </tr>\n",
       "    <tr>\n",
       "      <th>EU_Sales</th>\n",
       "      <td>0.003842</td>\n",
       "      <td>0.765336</td>\n",
       "      <td>1.000000</td>\n",
       "      <td>0.435068</td>\n",
       "      <td>0.722796</td>\n",
       "      <td>0.901239</td>\n",
       "      <td>0.220752</td>\n",
       "      <td>0.277533</td>\n",
       "      <td>0.283360</td>\n",
       "      <td>0.060266</td>\n",
       "    </tr>\n",
       "    <tr>\n",
       "      <th>JP_Sales</th>\n",
       "      <td>-0.168386</td>\n",
       "      <td>0.449598</td>\n",
       "      <td>0.435068</td>\n",
       "      <td>1.000000</td>\n",
       "      <td>0.291096</td>\n",
       "      <td>0.612300</td>\n",
       "      <td>0.152593</td>\n",
       "      <td>0.180219</td>\n",
       "      <td>0.075638</td>\n",
       "      <td>-0.016528</td>\n",
       "    </tr>\n",
       "    <tr>\n",
       "      <th>Other_Sales</th>\n",
       "      <td>0.037700</td>\n",
       "      <td>0.638654</td>\n",
       "      <td>0.722796</td>\n",
       "      <td>0.291096</td>\n",
       "      <td>1.000000</td>\n",
       "      <td>0.749242</td>\n",
       "      <td>0.198554</td>\n",
       "      <td>0.251639</td>\n",
       "      <td>0.238982</td>\n",
       "      <td>0.086018</td>\n",
       "    </tr>\n",
       "    <tr>\n",
       "      <th>Global_Sales</th>\n",
       "      <td>-0.076433</td>\n",
       "      <td>0.941010</td>\n",
       "      <td>0.901239</td>\n",
       "      <td>0.612300</td>\n",
       "      <td>0.749242</td>\n",
       "      <td>1.000000</td>\n",
       "      <td>0.245471</td>\n",
       "      <td>0.303571</td>\n",
       "      <td>0.265012</td>\n",
       "      <td>0.032731</td>\n",
       "    </tr>\n",
       "    <tr>\n",
       "      <th>Critic_Score</th>\n",
       "      <td>0.011411</td>\n",
       "      <td>0.240755</td>\n",
       "      <td>0.220752</td>\n",
       "      <td>0.152593</td>\n",
       "      <td>0.198554</td>\n",
       "      <td>0.245471</td>\n",
       "      <td>1.000000</td>\n",
       "      <td>0.425504</td>\n",
       "      <td>0.264376</td>\n",
       "      <td>0.033993</td>\n",
       "    </tr>\n",
       "    <tr>\n",
       "      <th>Critic_Count</th>\n",
       "      <td>0.223407</td>\n",
       "      <td>0.295413</td>\n",
       "      <td>0.277533</td>\n",
       "      <td>0.180219</td>\n",
       "      <td>0.251639</td>\n",
       "      <td>0.303571</td>\n",
       "      <td>0.425504</td>\n",
       "      <td>1.000000</td>\n",
       "      <td>0.362334</td>\n",
       "      <td>0.133001</td>\n",
       "    </tr>\n",
       "    <tr>\n",
       "      <th>User_Count</th>\n",
       "      <td>0.175339</td>\n",
       "      <td>0.246429</td>\n",
       "      <td>0.283360</td>\n",
       "      <td>0.075638</td>\n",
       "      <td>0.238982</td>\n",
       "      <td>0.265012</td>\n",
       "      <td>0.264376</td>\n",
       "      <td>0.362334</td>\n",
       "      <td>1.000000</td>\n",
       "      <td>0.028118</td>\n",
       "    </tr>\n",
       "    <tr>\n",
       "      <th>Platform_Coded</th>\n",
       "      <td>0.217464</td>\n",
       "      <td>0.011679</td>\n",
       "      <td>0.060266</td>\n",
       "      <td>-0.016528</td>\n",
       "      <td>0.086018</td>\n",
       "      <td>0.032731</td>\n",
       "      <td>0.033993</td>\n",
       "      <td>0.133001</td>\n",
       "      <td>0.028118</td>\n",
       "      <td>1.000000</td>\n",
       "    </tr>\n",
       "  </tbody>\n",
       "</table>\n",
       "</div>"
      ],
      "text/plain": [
       "                 Year_of_Release  NA_Sales  EU_Sales  JP_Sales  Other_Sales  \\\n",
       "Year_of_Release         1.000000 -0.092562  0.003842 -0.168386     0.037700   \n",
       "NA_Sales               -0.092562  1.000000  0.765336  0.449598     0.638654   \n",
       "EU_Sales                0.003842  0.765336  1.000000  0.435068     0.722796   \n",
       "JP_Sales               -0.168386  0.449598  0.435068  1.000000     0.291096   \n",
       "Other_Sales             0.037700  0.638654  0.722796  0.291096     1.000000   \n",
       "Global_Sales           -0.076433  0.941010  0.901239  0.612300     0.749242   \n",
       "Critic_Score            0.011411  0.240755  0.220752  0.152593     0.198554   \n",
       "Critic_Count            0.223407  0.295413  0.277533  0.180219     0.251639   \n",
       "User_Count              0.175339  0.246429  0.283360  0.075638     0.238982   \n",
       "Platform_Coded          0.217464  0.011679  0.060266 -0.016528     0.086018   \n",
       "\n",
       "                 Global_Sales  Critic_Score  Critic_Count  User_Count  \\\n",
       "Year_of_Release     -0.076433      0.011411      0.223407    0.175339   \n",
       "NA_Sales             0.941010      0.240755      0.295413    0.246429   \n",
       "EU_Sales             0.901239      0.220752      0.277533    0.283360   \n",
       "JP_Sales             0.612300      0.152593      0.180219    0.075638   \n",
       "Other_Sales          0.749242      0.198554      0.251639    0.238982   \n",
       "Global_Sales         1.000000      0.245471      0.303571    0.265012   \n",
       "Critic_Score         0.245471      1.000000      0.425504    0.264376   \n",
       "Critic_Count         0.303571      0.425504      1.000000    0.362334   \n",
       "User_Count           0.265012      0.264376      0.362334    1.000000   \n",
       "Platform_Coded       0.032731      0.033993      0.133001    0.028118   \n",
       "\n",
       "                 Platform_Coded  \n",
       "Year_of_Release        0.217464  \n",
       "NA_Sales               0.011679  \n",
       "EU_Sales               0.060266  \n",
       "JP_Sales              -0.016528  \n",
       "Other_Sales            0.086018  \n",
       "Global_Sales           0.032731  \n",
       "Critic_Score           0.033993  \n",
       "Critic_Count           0.133001  \n",
       "User_Count             0.028118  \n",
       "Platform_Coded         1.000000  "
      ]
     },
     "execution_count": 313,
     "metadata": {},
     "output_type": "execute_result"
    }
   ],
   "source": [
    "df.corr() #корреляция"
   ]
  },
  {
   "cell_type": "code",
   "execution_count": 314,
   "id": "771a0ae4",
   "metadata": {},
   "outputs": [],
   "source": [
    "X = np.log(1 + df.NA_Sales)\n",
    "y = df.Global_Sales\n",
    "X_const = sm.add_constant(X)"
   ]
  },
  {
   "cell_type": "code",
   "execution_count": 315,
   "id": "071390cb",
   "metadata": {},
   "outputs": [
    {
     "data": {
      "text/html": [
       "<table class=\"simpletable\">\n",
       "<caption>OLS Regression Results</caption>\n",
       "<tr>\n",
       "  <th>Dep. Variable:</th>      <td>Global_Sales</td>   <th>  R-squared:         </th> <td>   0.611</td> \n",
       "</tr>\n",
       "<tr>\n",
       "  <th>Model:</th>                   <td>OLS</td>       <th>  Adj. R-squared:    </th> <td>   0.611</td> \n",
       "</tr>\n",
       "<tr>\n",
       "  <th>Method:</th>             <td>Least Squares</td>  <th>  F-statistic:       </th> <td>2.627e+04</td>\n",
       "</tr>\n",
       "<tr>\n",
       "  <th>Date:</th>             <td>Fri, 02 Jun 2023</td> <th>  Prob (F-statistic):</th>  <td>  0.00</td>  \n",
       "</tr>\n",
       "<tr>\n",
       "  <th>Time:</th>                 <td>12:39:04</td>     <th>  Log-Likelihood:    </th> <td> -23133.</td> \n",
       "</tr>\n",
       "<tr>\n",
       "  <th>No. Observations:</th>      <td> 16719</td>      <th>  AIC:               </th> <td>4.627e+04</td>\n",
       "</tr>\n",
       "<tr>\n",
       "  <th>Df Residuals:</th>          <td> 16717</td>      <th>  BIC:               </th> <td>4.629e+04</td>\n",
       "</tr>\n",
       "<tr>\n",
       "  <th>Df Model:</th>              <td>     1</td>      <th>                     </th>     <td> </td>    \n",
       "</tr>\n",
       "<tr>\n",
       "  <th>Covariance Type:</th>      <td>nonrobust</td>    <th>                     </th>     <td> </td>    \n",
       "</tr>\n",
       "</table>\n",
       "<table class=\"simpletable\">\n",
       "<tr>\n",
       "      <td></td>        <th>coef</th>     <th>std err</th>      <th>t</th>      <th>P>|t|</th>  <th>[0.025</th>    <th>0.975]</th>  \n",
       "</tr>\n",
       "<tr>\n",
       "  <th>const</th>    <td>   -0.2168</td> <td>    0.009</td> <td>  -24.677</td> <td> 0.000</td> <td>   -0.234</td> <td>   -0.200</td>\n",
       "</tr>\n",
       "<tr>\n",
       "  <th>NA_Sales</th> <td>    4.3024</td> <td>    0.027</td> <td>  162.067</td> <td> 0.000</td> <td>    4.250</td> <td>    4.354</td>\n",
       "</tr>\n",
       "</table>\n",
       "<table class=\"simpletable\">\n",
       "<tr>\n",
       "  <th>Omnibus:</th>       <td>41460.166</td> <th>  Durbin-Watson:     </th>    <td>   0.577</td>   \n",
       "</tr>\n",
       "<tr>\n",
       "  <th>Prob(Omnibus):</th>  <td> 0.000</td>   <th>  Jarque-Bera (JB):  </th> <td>1536475018.250</td>\n",
       "</tr>\n",
       "<tr>\n",
       "  <th>Skew:</th>           <td>26.334</td>   <th>  Prob(JB):          </th>    <td>    0.00</td>   \n",
       "</tr>\n",
       "<tr>\n",
       "  <th>Kurtosis:</th>      <td>1487.192</td>  <th>  Cond. No.          </th>    <td>    3.67</td>   \n",
       "</tr>\n",
       "</table><br/><br/>Notes:<br/>[1] Standard Errors assume that the covariance matrix of the errors is correctly specified."
      ],
      "text/plain": [
       "<class 'statsmodels.iolib.summary.Summary'>\n",
       "\"\"\"\n",
       "                            OLS Regression Results                            \n",
       "==============================================================================\n",
       "Dep. Variable:           Global_Sales   R-squared:                       0.611\n",
       "Model:                            OLS   Adj. R-squared:                  0.611\n",
       "Method:                 Least Squares   F-statistic:                 2.627e+04\n",
       "Date:                Fri, 02 Jun 2023   Prob (F-statistic):               0.00\n",
       "Time:                        12:39:04   Log-Likelihood:                -23133.\n",
       "No. Observations:               16719   AIC:                         4.627e+04\n",
       "Df Residuals:                   16717   BIC:                         4.629e+04\n",
       "Df Model:                           1                                         \n",
       "Covariance Type:            nonrobust                                         \n",
       "==============================================================================\n",
       "                 coef    std err          t      P>|t|      [0.025      0.975]\n",
       "------------------------------------------------------------------------------\n",
       "const         -0.2168      0.009    -24.677      0.000      -0.234      -0.200\n",
       "NA_Sales       4.3024      0.027    162.067      0.000       4.250       4.354\n",
       "==============================================================================\n",
       "Omnibus:                    41460.166   Durbin-Watson:                   0.577\n",
       "Prob(Omnibus):                  0.000   Jarque-Bera (JB):       1536475018.250\n",
       "Skew:                          26.334   Prob(JB):                         0.00\n",
       "Kurtosis:                    1487.192   Cond. No.                         3.67\n",
       "==============================================================================\n",
       "\n",
       "Notes:\n",
       "[1] Standard Errors assume that the covariance matrix of the errors is correctly specified.\n",
       "\"\"\""
      ]
     },
     "execution_count": 315,
     "metadata": {},
     "output_type": "execute_result"
    }
   ],
   "source": [
    "mod = sm.OLS(y, X_const)\n",
    "res = mod.fit()\n",
    "res.summary()"
   ]
  },
  {
   "cell_type": "markdown",
   "id": "f01e54b1",
   "metadata": {},
   "source": [
    "# Test"
   ]
  },
  {
   "cell_type": "code",
   "execution_count": 242,
   "id": "18b0ee9b",
   "metadata": {},
   "outputs": [],
   "source": [
    "import scipy.stats"
   ]
  },
  {
   "cell_type": "code",
   "execution_count": 243,
   "id": "879231d2",
   "metadata": {},
   "outputs": [
    {
     "data": {
      "text/plain": [
       "0.6570104626734988"
      ]
     },
     "execution_count": 243,
     "metadata": {},
     "output_type": "execute_result"
    }
   ],
   "source": [
    "y = 0 - 0.01*15 + 0.2*4\n",
    "p = 1 / (1 + np.exp(-y))\n",
    "p"
   ]
  },
  {
   "cell_type": "code",
   "execution_count": 251,
   "id": "669d85b5",
   "metadata": {},
   "outputs": [
    {
     "data": {
      "text/plain": [
       "Ttest_indResult(statistic=0.2003211139915275, pvalue=0.8452433630336529)"
      ]
     },
     "execution_count": 251,
     "metadata": {},
     "output_type": "execute_result"
    }
   ],
   "source": [
    "reg1 = pd.DataFrame([103.01, 101.99, 105.21, 106.80, 112.70, 106.13, 110.48, 109.26, 100.44, 100.28])[0]\n",
    "reg2 = pd.DataFrame([107.38, 106.31, 106.00, 105.27, 105.27, 104.66, 103.70, 105.07, 105.12, 104.74])[0]\n",
    "\n",
    "scipy.stats.ttest_ind(reg1, reg2, equal_var = False)"
   ]
  },
  {
   "cell_type": "code",
   "execution_count": 264,
   "id": "87bd9866",
   "metadata": {},
   "outputs": [
    {
     "name": "stdout",
     "output_type": "stream",
     "text": [
      "105.63 105.352\n"
     ]
    }
   ],
   "source": [
    "mean1 = reg1.mean()\n",
    "mean2 = reg2.mean()\n",
    "print(mean1, mean2)"
   ]
  },
  {
   "cell_type": "code",
   "execution_count": 272,
   "id": "680406b2",
   "metadata": {},
   "outputs": [
    {
     "name": "stdout",
     "output_type": "stream",
     "text": [
      "18.23913333333335 1.0199733333333323\n"
     ]
    }
   ],
   "source": [
    "s1 = ((reg1 - mean1)**2).sum() / (len(reg1) - 1)\n",
    "s2 = ((reg2 - mean2)**2).sum() / (len(reg2) - 1)\n",
    "print(s1, s2)"
   ]
  },
  {
   "cell_type": "code",
   "execution_count": 274,
   "id": "9efd4941",
   "metadata": {},
   "outputs": [
    {
     "data": {
      "text/plain": [
       "1.387771835233252"
      ]
     },
     "execution_count": 274,
     "metadata": {},
     "output_type": "execute_result"
    }
   ],
   "source": [
    "s_m1_m2 = np.sqrt(s1/len(reg1) + s2/len(reg2))\n",
    "s_m1_m2"
   ]
  },
  {
   "cell_type": "code",
   "execution_count": 276,
   "id": "ca8861aa",
   "metadata": {},
   "outputs": [
    {
     "data": {
      "text/plain": [
       "0.2003211139915275"
      ]
     },
     "execution_count": 276,
     "metadata": {},
     "output_type": "execute_result"
    }
   ],
   "source": [
    "(mean1 - mean2) / s_m1_m2"
   ]
  },
  {
   "cell_type": "code",
   "execution_count": 277,
   "id": "fd4f90e0",
   "metadata": {},
   "outputs": [
    {
     "data": {
      "text/plain": [
       "-0.9360049952990245"
      ]
     },
     "execution_count": 277,
     "metadata": {},
     "output_type": "execute_result"
    }
   ],
   "source": [
    "fuel_vol = pd.DataFrame([50.1, 53.2, 55.0, 55.0, 50.2])[0]\n",
    "km = pd.DataFrame([15.2, 4.75, 1.2, 1.9, 9.3])[0]\n",
    "fuel_vol.corr(km)"
   ]
  },
  {
   "cell_type": "code",
   "execution_count": 284,
   "id": "c9f55c92",
   "metadata": {},
   "outputs": [
    {
     "data": {
      "text/html": [
       "<div>\n",
       "<style scoped>\n",
       "    .dataframe tbody tr th:only-of-type {\n",
       "        vertical-align: middle;\n",
       "    }\n",
       "\n",
       "    .dataframe tbody tr th {\n",
       "        vertical-align: top;\n",
       "    }\n",
       "\n",
       "    .dataframe thead th {\n",
       "        text-align: right;\n",
       "    }\n",
       "</style>\n",
       "<table border=\"1\" class=\"dataframe\">\n",
       "  <thead>\n",
       "    <tr style=\"text-align: right;\">\n",
       "      <th></th>\n",
       "      <th>Almaz</th>\n",
       "      <th>Matrosik</th>\n",
       "      <th>Snowy</th>\n",
       "    </tr>\n",
       "  </thead>\n",
       "  <tbody>\n",
       "    <tr>\n",
       "      <th>0</th>\n",
       "      <td>75</td>\n",
       "      <td>20</td>\n",
       "      <td>55</td>\n",
       "    </tr>\n",
       "    <tr>\n",
       "      <th>1</th>\n",
       "      <td>20</td>\n",
       "      <td>120</td>\n",
       "      <td>10</td>\n",
       "    </tr>\n",
       "  </tbody>\n",
       "</table>\n",
       "</div>"
      ],
      "text/plain": [
       "   Almaz  Matrosik  Snowy\n",
       "0     75        20     55\n",
       "1     20       120     10"
      ]
     },
     "execution_count": 284,
     "metadata": {},
     "output_type": "execute_result"
    }
   ],
   "source": [
    "cab = pd.DataFrame({'Almaz':[75, 20], 'Matrosik':[20, 120], 'Snowy':[55, 10]})\n",
    "cab"
   ]
  },
  {
   "cell_type": "code",
   "execution_count": 285,
   "id": "7301a054",
   "metadata": {},
   "outputs": [
    {
     "data": {
      "text/plain": [
       "(134.42452284557547,\n",
       " 6.457817206943809e-30,\n",
       " 2,\n",
       " array([[47.5, 70. , 32.5],\n",
       "        [47.5, 70. , 32.5]]))"
      ]
     },
     "execution_count": 285,
     "metadata": {},
     "output_type": "execute_result"
    }
   ],
   "source": [
    "scipy.stats.chi2_contingency(cab, correction=False)"
   ]
  },
  {
   "cell_type": "code",
   "execution_count": null,
   "id": "e43598a5",
   "metadata": {},
   "outputs": [],
   "source": []
  }
 ],
 "metadata": {
  "kernelspec": {
   "display_name": "Python 3 (ipykernel)",
   "language": "python",
   "name": "python3"
  },
  "language_info": {
   "codemirror_mode": {
    "name": "ipython",
    "version": 3
   },
   "file_extension": ".py",
   "mimetype": "text/x-python",
   "name": "python",
   "nbconvert_exporter": "python",
   "pygments_lexer": "ipython3",
   "version": "3.9.12"
  }
 },
 "nbformat": 4,
 "nbformat_minor": 5
}
